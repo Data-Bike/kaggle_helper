{
  "nbformat": 4,
  "nbformat_minor": 0,
  "metadata": {
    "colab": {
      "name": "Kaggle deploy class.ipynb",
      "provenance": [],
      "collapsed_sections": [],
      "authorship_tag": "ABX9TyMEyICUTioLibdkvPCDmr9M",
      "include_colab_link": true
    },
    "kernelspec": {
      "name": "python3",
      "display_name": "Python 3"
    },
    "language_info": {
      "name": "python"
    }
  },
  "cells": [
    {
      "cell_type": "markdown",
      "metadata": {
        "id": "view-in-github",
        "colab_type": "text"
      },
      "source": [
        "<a href=\"https://colab.research.google.com/github/Data-Bike/kaggle_helper/blob/main/Kaggle_deploy_class.ipynb\" target=\"_parent\"><img src=\"https://colab.research.google.com/assets/colab-badge.svg\" alt=\"Open In Colab\"/></a>"
      ]
    },
    {
      "cell_type": "code",
      "metadata": {
        "id": "jyYsPUbmzCFn"
      },
      "source": [
        "class KAGGLE:\n",
        "  def __init__(self, path_to_kaggle=\"/content/gdrive/MyDrive/Colab Notebooks/kaggle\"):\n",
        "    !pip install kaggle\n",
        "    from google.colab import drive\n",
        "    import os\n",
        "    self._path_to_kaggle = path_to_kaggle\n",
        "    self._path_to_notes = f\"{path_to_kaggle}/Notebooks\"\n",
        "    drive.mount('/content/gdrive')\n",
        "    os.environ['KAGGLE_CONFIG_DIR'] = path_to_kaggle\n",
        "    self._mkdir(self._path_to_notes)\n",
        "\n",
        "  def deploy(self,competion_name):\n",
        "    path_to_notes = self._path_to_notes\n",
        "    self.path_to_note = f\"{path_to_notes}/{competion_name}\"\n",
        "    self._mkdir(self.path_to_note)\n",
        "    %cd $self.path_to_note\n",
        "    !kaggle competitions download -c $competion_name\n",
        "    !unzip -o \\*.zip  && rm *.zip\n",
        "\n",
        "  def _install(self):\n",
        "    !pip install kaggle\n",
        "    from google.colab import drive\n",
        "    import os\n",
        "\n",
        "  def _mkdir(self,path):\n",
        "    import os\n",
        "    os.makedirs(path, exist_ok=True)\n"
      ],
      "execution_count": 1,
      "outputs": []
    },
    {
      "cell_type": "code",
      "metadata": {
        "colab": {
          "base_uri": "https://localhost:8080/"
        },
        "id": "QcvC9qDPD93V",
        "outputId": "0249e4d5-7abd-485b-9b69-244a2f66a174"
      },
      "source": [
        "kaggle = KAGGLE()"
      ],
      "execution_count": 2,
      "outputs": [
        {
          "output_type": "stream",
          "name": "stdout",
          "text": [
            "Requirement already satisfied: kaggle in /usr/local/lib/python3.7/dist-packages (1.5.12)\n",
            "Requirement already satisfied: requests in /usr/local/lib/python3.7/dist-packages (from kaggle) (2.23.0)\n",
            "Requirement already satisfied: python-slugify in /usr/local/lib/python3.7/dist-packages (from kaggle) (5.0.2)\n",
            "Requirement already satisfied: tqdm in /usr/local/lib/python3.7/dist-packages (from kaggle) (4.62.3)\n",
            "Requirement already satisfied: certifi in /usr/local/lib/python3.7/dist-packages (from kaggle) (2021.5.30)\n",
            "Requirement already satisfied: six>=1.10 in /usr/local/lib/python3.7/dist-packages (from kaggle) (1.15.0)\n",
            "Requirement already satisfied: python-dateutil in /usr/local/lib/python3.7/dist-packages (from kaggle) (2.8.2)\n",
            "Requirement already satisfied: urllib3 in /usr/local/lib/python3.7/dist-packages (from kaggle) (1.24.3)\n",
            "Requirement already satisfied: text-unidecode>=1.3 in /usr/local/lib/python3.7/dist-packages (from python-slugify->kaggle) (1.3)\n",
            "Requirement already satisfied: chardet<4,>=3.0.2 in /usr/local/lib/python3.7/dist-packages (from requests->kaggle) (3.0.4)\n",
            "Requirement already satisfied: idna<3,>=2.5 in /usr/local/lib/python3.7/dist-packages (from requests->kaggle) (2.10)\n",
            "Mounted at /content/gdrive\n"
          ]
        }
      ]
    },
    {
      "cell_type": "code",
      "metadata": {
        "colab": {
          "base_uri": "https://localhost:8080/"
        },
        "id": "Sj0L5w4-FL55",
        "outputId": "d5498452-4c8a-4d29-adc4-eea232125009"
      },
      "source": [
        "kaggle.deploy(\"ventilator-pressure-prediction\")"
      ],
      "execution_count": 3,
      "outputs": [
        {
          "output_type": "stream",
          "name": "stdout",
          "text": [
            "/content/gdrive/MyDrive/Colab Notebooks/kaggle/Notebooks/ventilator-pressure-prediction\n",
            "Warning: Looks like you're using an outdated API Version, please consider updating (server 1.5.12 / client 1.5.4)\n",
            "Downloading test.csv.zip to /content/gdrive/My Drive/Colab Notebooks/kaggle/Notebooks/ventilator-pressure-prediction\n",
            " 95% 72.0M/75.4M [00:00<00:00, 120MB/s]\n",
            "100% 75.4M/75.4M [00:00<00:00, 128MB/s]\n",
            "Downloading train.csv.zip to /content/gdrive/My Drive/Colab Notebooks/kaggle/Notebooks/ventilator-pressure-prediction\n",
            " 98% 136M/139M [00:01<00:00, 133MB/s]\n",
            "100% 139M/139M [00:01<00:00, 107MB/s]\n",
            "Downloading sample_submission.csv.zip to /content/gdrive/My Drive/Colab Notebooks/kaggle/Notebooks/ventilator-pressure-prediction\n",
            "  0% 0.00/8.50M [00:00<?, ?B/s]\n",
            "100% 8.50M/8.50M [00:00<00:00, 140MB/s]\n",
            "Archive:  test.csv.zip\n",
            "  inflating: test.csv                \n",
            "\n",
            "Archive:  train.csv.zip\n",
            "  inflating: train.csv               \n",
            "\n",
            "Archive:  sample_submission.csv.zip\n",
            "  inflating: sample_submission.csv   \n",
            "\n",
            "3 archives were successfully processed.\n"
          ]
        }
      ]
    }
  ]
}